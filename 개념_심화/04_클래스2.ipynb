{
 "cells": [
  {
   "cell_type": "markdown",
   "metadata": {},
   "source": [
    "# 클래스"
   ]
  },
  {
   "cell_type": "markdown",
   "metadata": {},
   "source": [
    "- 하나하나의 변수 마다 코딩 하기엔 비효율적\n",
    "- 연관있는 변수와 함수의 집합을 class라고 한다\n",
    "- 클래스   : 붕어빵 틀\n",
    "- 객체     : 붕어빵 틀로 찍어낸 붕어빵 , 이때 동일한 클래스로 만든 객체들은 독립적\n",
    "- 인스턴스 : 클래스에서 만든 객체를 인스턴스라고 한다"
   ]
  },
  {
   "cell_type": "markdown",
   "metadata": {},
   "source": []
  }
 ],
 "metadata": {
  "language_info": {
   "name": "python"
  },
  "orig_nbformat": 4
 },
 "nbformat": 4,
 "nbformat_minor": 2
}
