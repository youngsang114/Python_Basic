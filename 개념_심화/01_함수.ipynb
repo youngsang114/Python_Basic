{
 "cells": [
  {
   "cell_type": "markdown",
   "metadata": {},
   "source": [
    "## 가변인자\n",
    "- 인자의 개수가 많아질때 사용할 수 있다\n",
    "- 함수명(*인자) 형태로 넣어준다"
   ]
  },
  {
   "cell_type": "code",
   "execution_count": 4,
   "metadata": {},
   "outputs": [],
   "source": [
    "def profile(name, age, *language):\n",
    "    print('이름 : {0}\\t나이 : {1}\\t'.format(name,age),end=\" \") # 줄바꿈하지 않기위해 end=\" \"\n",
    "    for lang in language:\n",
    "        print(lang, end=\" \")\n",
    "    print()"
   ]
  },
  {
   "cell_type": "code",
   "execution_count": 5,
   "metadata": {},
   "outputs": [
    {
     "name": "stdout",
     "output_type": "stream",
     "text": [
      "이름 : 유재석\t나이 : 20\t python java C C+ C# JavaScript \n"
     ]
    }
   ],
   "source": [
    "profile(\"유재석\", 20, \"python\", \"java\",\"C\",\"C+\",\"C#\",\"JavaScript\")"
   ]
  },
  {
   "cell_type": "code",
   "execution_count": 6,
   "metadata": {},
   "outputs": [
    {
     "name": "stdout",
     "output_type": "stream",
     "text": [
      "이름 : 김태호\t나이 : 25\t Kotlin Swift \n"
     ]
    }
   ],
   "source": [
    "profile(\"김태호\", \"25\", \"Kotlin\",\"Swift\")"
   ]
  },
  {
   "cell_type": "markdown",
   "metadata": {},
   "source": [
    "## 지역변수,전역변수\n",
    "- 지역변수 : 함수 내에서만 사용가능, 함수 호출시 만들어졌다가 끝날때 없어지는 변수\n",
    "- 전역변수 : 프로그램 어디서든지 부를 수 있는 변수\n",
    "    - global 변수"
   ]
  },
  {
   "cell_type": "code",
   "execution_count": 9,
   "metadata": {},
   "outputs": [
    {
     "name": "stdout",
     "output_type": "stream",
     "text": [
      "전체 총 : 10\n",
      "[함수 내] 남은 총 : 8\n",
      "남은 총 : 8\n"
     ]
    }
   ],
   "source": [
    "gun =10                   # 전역변수\n",
    "\n",
    "def checkpoint(soilders): # 경계근무\n",
    "    global gun            # 전역 공간에 있는 gun을 함수에서 사용\n",
    "    gun = gun -soilders   \n",
    "    print(\"[함수 내] 남은 총 : {0}\".format(gun))\n",
    "\n",
    "print(\"전체 총 : {0}\".format(gun))\n",
    "checkpoint(2)             # 2명이 경계근무 나감\n",
    "print(\"남은 총 : {0}\".format(gun))"
   ]
  },
  {
   "cell_type": "markdown",
   "metadata": {},
   "source": [
    "- 전역변수를 많이 사용하면 코드 관리 어려움\n",
    "- 함수에 매개변수를 이용하고, return으로 받기"
   ]
  },
  {
   "cell_type": "code",
   "execution_count": 13,
   "metadata": {},
   "outputs": [
    {
     "name": "stdout",
     "output_type": "stream",
     "text": [
      "전체 총 : 10\n",
      "[함수 내] 남은 총 : 8\n",
      "남은 총 : 8\n"
     ]
    }
   ],
   "source": [
    "gun =10\n",
    "\n",
    "def checkpoint_ret(gun, soilders): # 경계근무          \n",
    "    gun = gun -soilders   \n",
    "    print(\"[함수 내] 남은 총 : {0}\".format(gun))\n",
    "    return gun\n",
    "\n",
    "\n",
    "print(\"전체 총 : {0}\".format(gun))\n",
    "gun = checkpoint_ret(gun,2)             # 2명이 경계근무 나감\n",
    "print(\"남은 총 : {0}\".format(gun))"
   ]
  },
  {
   "cell_type": "markdown",
   "metadata": {},
   "source": [
    "- 퀴즈"
   ]
  },
  {
   "cell_type": "code",
   "execution_count": 15,
   "metadata": {},
   "outputs": [
    {
     "name": "stdout",
     "output_type": "stream",
     "text": [
      "키 175cm 남자의 표준 체중은 67.38kg 입니다.\n"
     ]
    }
   ],
   "source": [
    "def std_weight(height,gender):\n",
    "    if gender =='남자':\n",
    "        return height*height*22\n",
    "    else:\n",
    "        return height*height*21\n",
    "\n",
    "height= 175\n",
    "gender ='남자'  \n",
    "weight=round(std_weight(height/100, gender),2)\n",
    "print(\"키 {0}cm {1}의 표준 체중은 {2}kg 입니다.\".format(height,gender,weight))"
   ]
  }
 ],
 "metadata": {
  "kernelspec": {
   "display_name": "Python 3",
   "language": "python",
   "name": "python3"
  },
  "language_info": {
   "codemirror_mode": {
    "name": "ipython",
    "version": 3
   },
   "file_extension": ".py",
   "mimetype": "text/x-python",
   "name": "python",
   "nbconvert_exporter": "python",
   "pygments_lexer": "ipython3",
   "version": "3.10.9"
  },
  "orig_nbformat": 4
 },
 "nbformat": 4,
 "nbformat_minor": 2
}
