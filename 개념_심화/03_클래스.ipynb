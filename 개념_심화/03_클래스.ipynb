{
 "cells": [
  {
   "cell_type": "code",
   "execution_count": 1,
   "metadata": {},
   "outputs": [
    {
     "name": "stdout",
     "output_type": "stream",
     "text": [
      "마린 유닛이 생성되었습니다.\n",
      "체력 : 40, 공격력 : 5\n",
      "\n"
     ]
    }
   ],
   "source": [
    "name =\"마린\"\n",
    "hp = 40\n",
    "damage = 5\n",
    "\n",
    "print(\"{0} 유닛이 생성되었습니다.\".format(name))\n",
    "print(\"체력 : {0}, 공격력 : {1}\\n\".format(hp,damage))"
   ]
  },
  {
   "cell_type": "code",
   "execution_count": 2,
   "metadata": {},
   "outputs": [
    {
     "name": "stdout",
     "output_type": "stream",
     "text": [
      "탱크 유닛이 생성되었습니다.\n",
      "체력 : 150, 공격력 : 35\n",
      "\n"
     ]
    }
   ],
   "source": [
    "tank_name ='탱크'\n",
    "tank_hp = 150\n",
    "tank_damage = 35\n",
    "\n",
    "print(\"{0} 유닛이 생성되었습니다.\".format(tank_name))\n",
    "print(\"체력 : {0}, 공격력 : {1}\\n\".format(tank_hp,tank_damage))"
   ]
  },
  {
   "cell_type": "code",
   "execution_count": 3,
   "metadata": {},
   "outputs": [],
   "source": [
    "def attack(name, location, damage):\n",
    "    print(\"{0} : {1} 방향으로 적군을 공격 합니다. [공격력 {2}]\".format(\\\n",
    "        name, location, damage))"
   ]
  },
  {
   "cell_type": "code",
   "execution_count": 4,
   "metadata": {},
   "outputs": [
    {
     "name": "stdout",
     "output_type": "stream",
     "text": [
      "마린 : 1시 방향으로 적군을 공격 합니다. [공격력 5]\n",
      "탱크 : 1시 방향으로 적군을 공격 합니다. [공격력 35]\n"
     ]
    }
   ],
   "source": [
    "attack(name, \"1시\", damage)\n",
    "attack(tank_name, \"1시\", tank_damage)"
   ]
  },
  {
   "cell_type": "markdown",
   "metadata": {},
   "source": [
    "- 유닛 하나하나 코딩을 할 수 없기 때문에, 클래스라는 개념이 필요함"
   ]
  },
  {
   "cell_type": "markdown",
   "metadata": {},
   "source": [
    "---"
   ]
  },
  {
   "cell_type": "markdown",
   "metadata": {},
   "source": [
    "## 클래스(class)\n",
    "- class : 붕어빵 틀, 연관있는 변수와 함수의 집합"
   ]
  },
  {
   "cell_type": "code",
   "execution_count": 5,
   "metadata": {},
   "outputs": [
    {
     "name": "stdout",
     "output_type": "stream",
     "text": [
      "마린 유닛이 생성 되었습니다\n",
      "체력 : 40, 공격력 : 5 \n",
      "마린 유닛이 생성 되었습니다\n",
      "체력 : 40, 공격력 : 5 \n",
      "탱크 유닛이 생성 되었습니다\n",
      "체력 : 150, 공격력 : 35 \n"
     ]
    }
   ],
   "source": [
    "class Unit:\n",
    "    def __init__(self, name, hp, damage):\n",
    "        self.name= name\n",
    "        self.hp=hp\n",
    "        self.damage=damage\n",
    "        print(\"{0} 유닛이 생성 되었습니다\".format(self.name))\n",
    "        print(\"체력 : {0}, 공격력 : {1} \".format(self.hp, self.damage))\n",
    "\n",
    "marin1 = Unit(\"마린\",40,5)\n",
    "marin2 = Unit(\"마린\",40,5)\n",
    "tank = Unit(\"탱크\",150,35)"
   ]
  },
  {
   "cell_type": "markdown",
   "metadata": {},
   "source": [
    "### 1.생성자 함수(__init__)\n",
    "- 파이썬의 생성자 함수\n",
    "- 객체를 만들때 자동으로 호출되는 함수\n",
    "- class로부터 만들어지는 것을 객체라고 한다\n",
    "- maine,tank는  Unit 클래스의 인스턴스라고 한다\n",
    "- 객체의 개수를 맞춰줘야한다"
   ]
  },
  {
   "cell_type": "markdown",
   "metadata": {},
   "source": [
    "### 2.맴버 변수\n",
    "- 클래스의 안의 self.변수 = 변수\n",
    "- 클래스 내에서 정의된 변수, 그 변수를 가지고 초기화 및 사용 가능\n",
    "- 맴버 변수를 init함수 외부에서 사용가능\n",
    "- 클래스 외부에서 내가 원하는 변수에 대해서 확장 가능(클락킹)\n",
    "- 확장을 한 객체에서만 적용이 되고 확장을 하지 않는 객체에서는 적용이 불가능하다"
   ]
  },
  {
   "cell_type": "code",
   "execution_count": 6,
   "metadata": {},
   "outputs": [
    {
     "name": "stdout",
     "output_type": "stream",
     "text": [
      "레이스 유닛이 생성 되었습니다\n",
      "체력 : 80, 공격력 : 5 \n",
      "---------------------------------\n",
      "유닛 이름 : 레이스, 공격력 : 5\n"
     ]
    }
   ],
   "source": [
    "wraith1= Unit(\"레이스\",80,5)\n",
    "print(\"---------------------------------\")\n",
    "print(\"유닛 이름 : {0}, 공격력 : {1}\".format(wraith1.name,wraith1.damage))"
   ]
  },
  {
   "cell_type": "code",
   "execution_count": 7,
   "metadata": {},
   "outputs": [
    {
     "name": "stdout",
     "output_type": "stream",
     "text": [
      "마인드컨트롤 당한 레이스 유닛이 생성 되었습니다\n",
      "체력 : 80, 공격력 : 5 \n",
      "마인드컨트롤 당한 레이스 는 현재 클로킹 상태입니다.\n"
     ]
    }
   ],
   "source": [
    "wraith2 = Unit(\"마인드컨트롤 당한 레이스\",80,5)\n",
    "wraith2.clocking =True\n",
    "\n",
    "if wraith2.clocking ==True:\n",
    "    print(\"{0} 는 현재 클로킹 상태입니다.\".format(wraith2.name))"
   ]
  },
  {
   "cell_type": "markdown",
   "metadata": {},
   "source": [
    "### 3.메소드"
   ]
  },
  {
   "cell_type": "code",
   "execution_count": 8,
   "metadata": {},
   "outputs": [],
   "source": [
    "class Unit:\n",
    "    def __init__(self, name, hp, damage):\n",
    "        self.name= name\n",
    "        self.hp=hp\n",
    "        self.damage=damage\n",
    "        print(\"{0} 유닛이 생성 되었습니다\".format(self.name))\n",
    "        print(\"체력 : {0}, 공격력 : {1} \".format(self.hp, self.damage))\n",
    "\n",
    "## 공격 유닛\n",
    "class AttackUnit:\n",
    "        def __init__(self, name, hp, damage):\n",
    "            self.name= name\n",
    "            self.hp=hp\n",
    "            self.damage=damage\n",
    "\n",
    "        def attack(self, location):\n",
    "             print(\"{0} : {1} 방향으로 적군을 공격합니다. [공격력 {2}]\"\\\n",
    "                   .format(self.name,location,self.damage)) \n",
    "             \n",
    "        def damaged(self, damage):\n",
    "             print(\"{0} : {1} 데미지를 입었습니다\".format(self.name,damage))\n",
    "             self.hp -=damage\n",
    "             print(\"{0} : 현재 체력은 {1} 입니다\".format(self.name, self.hp))\n",
    "             if self.hp <=0:\n",
    "                  print(\"{0} : 파괴되었습니다\".format(self.name))\n"
   ]
  },
  {
   "cell_type": "code",
   "execution_count": 9,
   "metadata": {},
   "outputs": [
    {
     "name": "stdout",
     "output_type": "stream",
     "text": [
      "파이어뱃 : 5시 방향으로 적군을 공격합니다. [공격력 16]\n",
      "파이어뱃 : 25 데미지를 입었습니다\n",
      "파이어뱃 : 현재 체력은 25 입니다\n",
      "파이어뱃 : 25 데미지를 입었습니다\n",
      "파이어뱃 : 현재 체력은 0 입니다\n",
      "파이어뱃 : 파괴되었습니다\n"
     ]
    }
   ],
   "source": [
    "# 파이어뱃\n",
    "firebat1=AttackUnit(\"파이어뱃\",50,16)\n",
    "firebat1.attack(\"5시\")\n",
    "# 공격을 2번 받았다고 가정\n",
    "firebat1.damaged(25)\n",
    "firebat1.damaged(25)"
   ]
  },
  {
   "cell_type": "markdown",
   "metadata": {},
   "source": [
    "### 4.상속\n",
    "- name, hp는 Unit, AttackUnit 모두 동일 --> 상속\n",
    "- 상속받을려는 Class(상속해주는 Class)\n",
    "- 상속해주는 Class의 생성자 함수를 실행해준다 ex: Unit.__init__(self,name,hp)\n",
    "- 상속을 받는 자식 Class는 부모 Class의 함수를 모두 이용할 수 있다"
   ]
  },
  {
   "cell_type": "code",
   "execution_count": 10,
   "metadata": {},
   "outputs": [],
   "source": [
    "## 일반 유닛\n",
    "class Unit:\n",
    "    def __init__(self, name, hp):\n",
    "        self.name= name\n",
    "        self.hp=hp\n",
    "\n",
    "## 공격 유닛\n",
    "class AttackUnit(Unit):\n",
    "        def __init__(self, name, hp, damage):\n",
    "            Unit.__init__(self,name,hp)\n",
    "            self.damage=damage\n",
    "\n",
    "        def attack(self, location):\n",
    "             print(\"{0} : {1} 방향으로 적군을 공격합니다. [공격력 {2}]\"\\\n",
    "                   .format(self.name,location,self.damage)) \n",
    "             \n",
    "        def damaged(self, damage):\n",
    "             print(\"{0} : {1} 데미지를 입었습니다\".format(self.name,damage))\n",
    "             self.hp -=damage\n",
    "             print(\"{0} : 현재 체력은 {1} 입니다\".format(self.name, self.hp))\n",
    "             if self.hp <=0:\n",
    "                  print(\"{0} : 파괴되었습니다\".format(self.name))\n"
   ]
  },
  {
   "cell_type": "code",
   "execution_count": 11,
   "metadata": {},
   "outputs": [
    {
     "name": "stdout",
     "output_type": "stream",
     "text": [
      "파이어뱃 : 5시 방향으로 적군을 공격합니다. [공격력 16]\n",
      "파이어뱃 : 25 데미지를 입었습니다\n",
      "파이어뱃 : 현재 체력은 25 입니다\n",
      "파이어뱃 : 25 데미지를 입었습니다\n",
      "파이어뱃 : 현재 체력은 0 입니다\n",
      "파이어뱃 : 파괴되었습니다\n"
     ]
    }
   ],
   "source": [
    "# 파이어뱃\n",
    "firebat1=AttackUnit(\"파이어뱃\",50,16)\n",
    "firebat1.attack(\"5시\")\n",
    "# 공격을 2번 받았다고 가정\n",
    "firebat1.damaged(25)\n",
    "firebat1.damaged(25)"
   ]
  },
  {
   "cell_type": "markdown",
   "metadata": {},
   "source": [
    "### 5.다중상속\n",
    "- 상속해주는 Class : 부모 Class\n",
    "- 상속받는 Class : 자식 Class\n",
    "- 부모 Class가 2개이상일때 다중상속이라고 한다\n",
    "- 자식 Class의 생성자 함수 괄호에 ,를 이용해서 2개 이상의 부모 Class를 상속해준다\n",
    "- 드랍쉽(공중 유닛이면서 공격기능이 없는 유닛)"
   ]
  },
  {
   "cell_type": "code",
   "execution_count": 12,
   "metadata": {},
   "outputs": [],
   "source": [
    "## 일반 유닛\n",
    "class Unit:\n",
    "    def __init__(self, name, hp):\n",
    "        self.name= name\n",
    "        self.hp=hp\n",
    "\n",
    "## 공격 유닛\n",
    "class AttackUnit(Unit):\n",
    "        def __init__(self, name, hp, damage):\n",
    "            Unit.__init__(self,name,hp)\n",
    "            self.damage=damage\n",
    "\n",
    "        def attack(self, location):\n",
    "             print(\"{0} : {1} 방향으로 적군을 공격합니다. [공격력 {2}]\"\\\n",
    "                   .format(self.name,location,self.damage)) \n",
    "             \n",
    "        def damaged(self, damage):\n",
    "             print(\"{0} : {1} 데미지를 입었습니다\".format(self.name,damage))\n",
    "             self.hp -=damage\n",
    "             print(\"{0} : 현재 체력은 {1} 입니다\".format(self.name, self.hp))\n",
    "             if self.hp <=0:\n",
    "                  print(\"{0} : 파괴되었습니다\".format(self.name))\n",
    "\n",
    "## 날수 있는 기능을 가진 클래스\n",
    "class Flyable:\n",
    "    def __init__(self,flying_speed):\n",
    "         self.flying_speed= flying_speed\n",
    "    \n",
    "    def fly(self,name,location):\n",
    "         print(\"{0} : {1}방향으로 날아갔습니다. [속도 {2}]\"\\\n",
    "               .format(name,location,self.flying_speed))\n",
    "\n",
    "## 공중 공격 유닛 클래스\n",
    "class FlyableAttackUnit(AttackUnit,Flyable):\n",
    "     def __init__(self,name,hp,damage,flying_speed):\n",
    "        AttackUnit.__init__(self,name,hp,damage)\n",
    "        Flyable.__init__(self,flying_speed)"
   ]
  },
  {
   "cell_type": "code",
   "execution_count": 13,
   "metadata": {},
   "outputs": [
    {
     "name": "stdout",
     "output_type": "stream",
     "text": [
      "발키리 : 3시방향으로 날아갔습니다. [속도 5]\n"
     ]
    }
   ],
   "source": [
    "# 발키리\n",
    "\n",
    "valkyrie= FlyableAttackUnit(\"발키리\",200,6,5)\n",
    "valkyrie.fly(valkyrie.name , \"3시\")  ## fly함수의 init에서 속도만 있기때문에 valkyrie.name을 선언해줬다\n"
   ]
  },
  {
   "cell_type": "markdown",
   "metadata": {},
   "source": [
    "## 6.메소드 오버라이딩"
   ]
  },
  {
   "cell_type": "code",
   "execution_count": 16,
   "metadata": {},
   "outputs": [],
   "source": [
    "## 일반 유닛\n",
    "class Unit:\n",
    "    def __init__(self, name, hp, speed):\n",
    "        self.name= name\n",
    "        self.hp=hp\n",
    "        self.speed=speed\n",
    "\n",
    "    def move(self,location):\n",
    "        print(\"[지상 유닛 이동]\")\n",
    "        print(\"{0} : {1} 방향으로 이동합니다. [속도: {2}]\".format(self.name, location, self.speed))\n",
    "\n",
    "## 공격 유닛\n",
    "class AttackUnit(Unit):\n",
    "        def __init__(self, name, hp, speed,damage):\n",
    "            Unit.__init__(self,name,hp,speed)\n",
    "            self.damage=damage\n",
    "\n",
    "        def attack(self, location):\n",
    "             print(\"{0} : {1} 방향으로 적군을 공격합니다. [공격력 {2}]\"\\\n",
    "                   .format(self.name,location,self.damage)) \n",
    "             \n",
    "        def damaged(self, damage):\n",
    "             print(\"{0} : {1} 데미지를 입었습니다\".format(self.name,damage))\n",
    "             self.hp -=damage\n",
    "             print(\"{0} : 현재 체력은 {1} 입니다\".format(self.name, self.hp))\n",
    "             if self.hp <=0:\n",
    "                  print(\"{0} : 파괴되었습니다\".format(self.name))\n",
    "\n",
    "## 날수 있는 기능을 가진 클래스\n",
    "class Flyable:\n",
    "    def __init__(self,flying_speed):\n",
    "         self.flying_speed= flying_speed\n",
    "    \n",
    "    def fly(self,name,location):\n",
    "        print(\"{0} : {1}방향으로 날아갔습니다. [속도 {2}]\"\\\n",
    "               .format(name,location,self.flying_speed))\n",
    "\n",
    "## 공중 공격 유닛 클래스\n",
    "class FlyableAttackUnit(AttackUnit,Flyable):\n",
    "    def __init__(self,name,hp,damage,flying_speed):\n",
    "        AttackUnit.__init__(self,name,hp,0,damage)   # 지상 speed를 0으로 설정\n",
    "        Flyable.__init__(self,flying_speed)\n",
    "        \n",
    "    def move(self,location):\n",
    "         print(\"[공중 유닛 이동]\")\n",
    "         self.fly(self.name, location)\n",
    "        "
   ]
  },
  {
   "cell_type": "code",
   "execution_count": 15,
   "metadata": {},
   "outputs": [
    {
     "name": "stdout",
     "output_type": "stream",
     "text": [
      "[지상 유닛 이동]\n",
      "벌쳐 : 11시 방향으로 이동합니다. [속도: 10]\n",
      "배틀크루져 : 9시방향으로 날아갔습니다. [속도 3]\n"
     ]
    }
   ],
   "source": [
    "vulture = AttackUnit('벌쳐',80,10,20)\n",
    "battlecruiser = FlyableAttackUnit('배틀크루져',500,25,3)\n",
    "\n",
    "vulture.move(\"11시\")\n",
    "battlecruiser.fly(battlecruiser.name,\"9시\")"
   ]
  },
  {
   "cell_type": "markdown",
   "metadata": {},
   "source": [
    "- 지상유닛 : move\n",
    "- 공중유닛 : fly\n",
    "- 매소드 오버라이딩을 써서 똑같이 move함수만 사용해서 지상,공중 유닛 모두 이동하게 하기!"
   ]
  },
  {
   "cell_type": "code",
   "execution_count": 17,
   "metadata": {},
   "outputs": [
    {
     "name": "stdout",
     "output_type": "stream",
     "text": [
      "[지상 유닛 이동]\n",
      "배틀크루져 : 9시 방향으로 이동합니다. [속도: 0]\n"
     ]
    }
   ],
   "source": [
    "battlecruiser.move(\"9시\")"
   ]
  },
  {
   "cell_type": "markdown",
   "metadata": {},
   "source": [
    "## 7.pass\n",
    "- 아무것도 안하고 일단 넘어간다"
   ]
  },
  {
   "cell_type": "code",
   "execution_count": 18,
   "metadata": {},
   "outputs": [],
   "source": [
    "class BuildingUnit(Unit):\n",
    "    def __init__(self, name, hp, location):\n",
    "        pass\n",
    "\n",
    "## 서플라이 디폿\n",
    "supply_depot = BuildingUnit(\"서플라이 디폿\", 500, \"7시\")        "
   ]
  },
  {
   "cell_type": "code",
   "execution_count": 20,
   "metadata": {},
   "outputs": [],
   "source": [
    "def game_start():\n",
    "    print(\"[알림] 새로운 게임을 시작합니다.\")\n",
    "\n",
    "def game_over():\n",
    "    pass"
   ]
  },
  {
   "cell_type": "code",
   "execution_count": 21,
   "metadata": {},
   "outputs": [
    {
     "name": "stdout",
     "output_type": "stream",
     "text": [
      "[알림] 새로운 게임을 시작합니다.\n"
     ]
    }
   ],
   "source": [
    "game_start()"
   ]
  },
  {
   "cell_type": "code",
   "execution_count": 22,
   "metadata": {},
   "outputs": [],
   "source": [
    "game_over()"
   ]
  },
  {
   "cell_type": "markdown",
   "metadata": {},
   "source": [
    "## 8.super\n",
    "- 상속하는 방법 \n",
    "- 이때 self변수는 안보내준다\n",
    "- super() 이렇게 괄호를 적어줘야한다\n",
    "- 다중 상속을 할때 문제가 생긴다\n",
    "    - 맨 처음에 상속받는 클래스만 init이 호출된다\n",
    "    - 이럴땐 상속하는 다중 상속 class 모두를 상속한다 --> super이용을 하지 않음"
   ]
  },
  {
   "cell_type": "code",
   "execution_count": null,
   "metadata": {},
   "outputs": [],
   "source": [
    "## 일반 유닛\n",
    "class Unit:\n",
    "    def __init__(self, name, hp, speed):\n",
    "        self.name= name\n",
    "        self.hp=hp\n",
    "        self.speed=speed\n",
    "\n",
    "    def move(self,location):\n",
    "        print(\"[지상 유닛 이동]\")\n",
    "        print(\"{0} : {1} 방향으로 이동합니다. [속도: {2}]\".format(self.name, location, self.speed))\n",
    "\n",
    "## 공격 유닛\n",
    "class AttackUnit(Unit):\n",
    "        def __init__(self, name, hp, speed,damage):\n",
    "            Unit.__init__(self,name,hp,speed)\n",
    "            self.damage=damage\n",
    "\n",
    "        def attack(self, location):\n",
    "             print(\"{0} : {1} 방향으로 적군을 공격합니다. [공격력 {2}]\"\\\n",
    "                   .format(self.name,location,self.damage)) \n",
    "             \n",
    "        def damaged(self, damage):\n",
    "             print(\"{0} : {1} 데미지를 입었습니다\".format(self.name,damage))\n",
    "             self.hp -=damage\n",
    "             print(\"{0} : 현재 체력은 {1} 입니다\".format(self.name, self.hp))\n",
    "             if self.hp <=0:\n",
    "                  print(\"{0} : 파괴되었습니다\".format(self.name))\n",
    "\n",
    "## 날수 있는 기능을 가진 클래스\n",
    "class Flyable:\n",
    "    def __init__(self,flying_speed):\n",
    "         self.flying_speed= flying_speed\n",
    "    \n",
    "    def fly(self,name,location):\n",
    "        print(\"{0} : {1}방향으로 날아갔습니다. [속도 {2}]\"\\\n",
    "               .format(name,location,self.flying_speed))\n",
    "\n",
    "## 공중 공격 유닛 클래스\n",
    "class FlyableAttackUnit(AttackUnit,Flyable):\n",
    "    def __init__(self,name,hp,damage,flying_speed):\n",
    "        AttackUnit.__init__(self,name,hp,0,damage)   # 지상 speed를 0으로 설정\n",
    "        Flyable.__init__(self,flying_speed)\n",
    "        \n",
    "    def move(self,location):\n",
    "         print(\"[공중 유닛 이동]\")\n",
    "         self.fly(self.name, location)\n",
    "\n",
    "# 건물 \n",
    "class BuildingUnit(Unit):\n",
    "    def __init__(self, name, hp, location):\n",
    "         #Unit.__init__(self,name,hp,0)\n",
    "         super.__init__(name,hp,0)                 # super로 상속할때는 self를 안보내준다\n",
    "         self.location = location\n",
    "        "
   ]
  }
 ],
 "metadata": {
  "kernelspec": {
   "display_name": "Python 3",
   "language": "python",
   "name": "python3"
  },
  "language_info": {
   "codemirror_mode": {
    "name": "ipython",
    "version": 3
   },
   "file_extension": ".py",
   "mimetype": "text/x-python",
   "name": "python",
   "nbconvert_exporter": "python",
   "pygments_lexer": "ipython3",
   "version": "3.10.9"
  },
  "orig_nbformat": 4
 },
 "nbformat": 4,
 "nbformat_minor": 2
}
