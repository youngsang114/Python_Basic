{
 "cells": [
  {
   "cell_type": "code",
   "execution_count": 2,
   "metadata": {},
   "outputs": [
    {
     "name": "stdout",
     "output_type": "stream",
     "text": [
      "마린 유닛이 생성되었습니다.\n",
      "체력 : 40, 공격력 : 5\n",
      "\n"
     ]
    }
   ],
   "source": [
    "name =\"마린\"\n",
    "hp = 40\n",
    "damage = 5\n",
    "\n",
    "print(\"{0} 유닛이 생성되었습니다.\".format(name))\n",
    "print(\"체력 : {0}, 공격력 : {1}\\n\".format(hp,damage))"
   ]
  },
  {
   "cell_type": "code",
   "execution_count": 3,
   "metadata": {},
   "outputs": [
    {
     "name": "stdout",
     "output_type": "stream",
     "text": [
      "탱크 유닛이 생성되었습니다.\n",
      "체력 : 150, 공격력 : 35\n",
      "\n"
     ]
    }
   ],
   "source": [
    "tank_name ='탱크'\n",
    "tank_hp = 150\n",
    "tank_damage = 35\n",
    "\n",
    "print(\"{0} 유닛이 생성되었습니다.\".format(tank_name))\n",
    "print(\"체력 : {0}, 공격력 : {1}\\n\".format(tank_hp,tank_damage))"
   ]
  },
  {
   "cell_type": "code",
   "execution_count": 4,
   "metadata": {},
   "outputs": [],
   "source": [
    "def attack(name, location, damage):\n",
    "    print(\"{0} : {1} 방향으로 적군을 공격 합니다. [공격력 {2}]\".format(\\\n",
    "        name, location, damage))"
   ]
  },
  {
   "cell_type": "code",
   "execution_count": 5,
   "metadata": {},
   "outputs": [
    {
     "name": "stdout",
     "output_type": "stream",
     "text": [
      "마린 : 1시 방향으로 적군을 공격 합니다. [공격력 5]\n",
      "탱크 : 1시 방향으로 적군을 공격 합니다. [공격력 35]\n"
     ]
    }
   ],
   "source": [
    "attack(name, \"1시\", damage)\n",
    "attack(tank_name, \"1시\", tank_damage)"
   ]
  },
  {
   "cell_type": "markdown",
   "metadata": {},
   "source": [
    "- 유닛 하나하나 코딩을 할 수 없기 때문에, 클래스라는 개념이 필요함"
   ]
  },
  {
   "cell_type": "markdown",
   "metadata": {},
   "source": [
    "---"
   ]
  },
  {
   "cell_type": "markdown",
   "metadata": {},
   "source": [
    "## 클래스(class)\n",
    "- class : 붕어빵 틀, 연관있는 변수와 함수의 집합"
   ]
  },
  {
   "cell_type": "code",
   "execution_count": 6,
   "metadata": {},
   "outputs": [
    {
     "name": "stdout",
     "output_type": "stream",
     "text": [
      "마린 유닛이 생성 되었습니다\n",
      "체력 : 40, 공격력 : 5 \n",
      "마린 유닛이 생성 되었습니다\n",
      "체력 : 40, 공격력 : 5 \n",
      "탱크 유닛이 생성 되었습니다\n",
      "체력 : 150, 공격력 : 35 \n"
     ]
    }
   ],
   "source": [
    "class Unit:\n",
    "    def __init__(self, name, hp, damage):\n",
    "        self.name= name\n",
    "        self.hp=hp\n",
    "        self.damage=damage\n",
    "        print(\"{0} 유닛이 생성 되었습니다\".format(self.name))\n",
    "        print(\"체력 : {0}, 공격력 : {1} \".format(self.hp, self.damage))\n",
    "\n",
    "marin1 = Unit(\"마린\",40,5)\n",
    "marin2 = Unit(\"마린\",40,5)\n",
    "tank = Unit(\"탱크\",150,35)"
   ]
  },
  {
   "cell_type": "markdown",
   "metadata": {},
   "source": [
    "### 1.생성자 함수(__init__)\n",
    "- 파이썬의 생성자 함수\n",
    "- 객체를 만들때 자동으로 호출되는 함수\n",
    "- class로부터 만들어지는 것을 객체라고 한다\n",
    "- maine,tank는  Unit 클래스의 인스턴스라고 한다\n",
    "- 객체의 개수를 맞춰줘야한다"
   ]
  },
  {
   "cell_type": "markdown",
   "metadata": {},
   "source": [
    "### 2.맴버 변수\n",
    "- 클래스의 안의 self.변수 = 변수\n",
    "- 클래스 내에서 정의된 변수, 그 변수를 가지고 초기화 및 사용 가능\n",
    "- 맴버 변수를 init함수 외부에서 사용가능\n",
    "- 클래스 외부에서 내가 원하는 변수에 대해서 확장 가능(클락킹)\n",
    "- 확장을 한 객체에서만 적용이 되고 확장을 하지 않는 객체에서는 적용이 불가능하다"
   ]
  },
  {
   "cell_type": "code",
   "execution_count": 11,
   "metadata": {},
   "outputs": [
    {
     "name": "stdout",
     "output_type": "stream",
     "text": [
      "레이스 유닛이 생성 되었습니다\n",
      "체력 : 80, 공격력 : 5 \n",
      "---------------------------------\n",
      "유닛 이름 : 레이스, 공격력 : 5\n"
     ]
    }
   ],
   "source": [
    "wraith1= Unit(\"레이스\",80,5)\n",
    "print(\"---------------------------------\")\n",
    "print(\"유닛 이름 : {0}, 공격력 : {1}\".format(wraith1.name,wraith1.damage))"
   ]
  },
  {
   "cell_type": "code",
   "execution_count": 12,
   "metadata": {},
   "outputs": [
    {
     "name": "stdout",
     "output_type": "stream",
     "text": [
      "마인드컨트롤 당한 레이스 유닛이 생성 되었습니다\n",
      "체력 : 80, 공격력 : 5 \n",
      "마인드컨트롤 당한 레이스 는 현재 클로킹 상태입니다.\n"
     ]
    }
   ],
   "source": [
    "wraith2 = Unit(\"마인드컨트롤 당한 레이스\",80,5)\n",
    "wraith2.clocking =True\n",
    "\n",
    "if wraith2.clocking ==True:\n",
    "    print(\"{0} 는 현재 클로킹 상태입니다.\".format(wraith2.name))"
   ]
  },
  {
   "cell_type": "markdown",
   "metadata": {},
   "source": [
    "### 3.메소드"
   ]
  },
  {
   "cell_type": "code",
   "execution_count": 14,
   "metadata": {},
   "outputs": [],
   "source": [
    "class Unit:\n",
    "    def __init__(self, name, hp, damage):\n",
    "        self.name= name\n",
    "        self.hp=hp\n",
    "        self.damage=damage\n",
    "        print(\"{0} 유닛이 생성 되었습니다\".format(self.name))\n",
    "        print(\"체력 : {0}, 공격력 : {1} \".format(self.hp, self.damage))\n",
    "\n",
    "## 공격 유닛\n",
    "class AttackUnit:\n",
    "        def __init__(self, name, hp, damage):\n",
    "            self.name= name\n",
    "            self.hp=hp\n",
    "            self.damage=damage\n",
    "\n",
    "        def attack(self, location):\n",
    "             print(\"{0} : {1} 방향으로 적군을 공격합니다. [공격력 {2}]\"\\\n",
    "                   .format(self.name,location,self.damage)) \n",
    "             \n",
    "        def damaged(self, damage):\n",
    "             print(\"{0} : {1} 데미지를 입었습니다\".format(self.name,damage))\n",
    "             self.hp -=damage\n",
    "             print(\"{0} : 현재 체력은 {1} 입니다\".format(self.name, self.hp))\n",
    "             if self.hp <=0:\n",
    "                  print(\"{0} : 파괴되었습니다\".format(self.name))\n"
   ]
  },
  {
   "cell_type": "code",
   "execution_count": 15,
   "metadata": {},
   "outputs": [
    {
     "name": "stdout",
     "output_type": "stream",
     "text": [
      "파이어뱃 : 5시 방향으로 적군을 공격합니다. [공격력 16]\n",
      "파이어뱃 : 25 데미지를 입었습니다\n",
      "파이어뱃 : 현재 체력은 25 입니다\n",
      "파이어뱃 : 25 데미지를 입었습니다\n",
      "파이어뱃 : 현재 체력은 0 입니다\n",
      "파이어뱃 : 파괴되었습니다\n"
     ]
    }
   ],
   "source": [
    "# 파이어뱃\n",
    "firebat1=AttackUnit(\"파이어뱃\",50,16)\n",
    "firebat1.attack(\"5시\")\n",
    "# 공격을 2번 받았다고 가정\n",
    "firebat1.damaged(25)\n",
    "firebat1.damaged(25)"
   ]
  },
  {
   "cell_type": "code",
   "execution_count": null,
   "metadata": {},
   "outputs": [],
   "source": []
  }
 ],
 "metadata": {
  "kernelspec": {
   "display_name": "Python 3",
   "language": "python",
   "name": "python3"
  },
  "language_info": {
   "codemirror_mode": {
    "name": "ipython",
    "version": 3
   },
   "file_extension": ".py",
   "mimetype": "text/x-python",
   "name": "python",
   "nbconvert_exporter": "python",
   "pygments_lexer": "ipython3",
   "version": "3.10.9"
  },
  "orig_nbformat": 4
 },
 "nbformat": 4,
 "nbformat_minor": 2
}
