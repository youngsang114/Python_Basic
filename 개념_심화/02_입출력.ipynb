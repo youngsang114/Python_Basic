{
 "cells": [
  {
   "cell_type": "markdown",
   "metadata": {},
   "source": [
    "## 1.표준 입출력"
   ]
  },
  {
   "cell_type": "markdown",
   "metadata": {},
   "source": [
    "- sep : , 부분을 바꿔주는 인자(default = space)\n",
    "- end : 문자의 끝부분을 바꿔주는 인자(default = enter)"
   ]
  },
  {
   "cell_type": "code",
   "execution_count": 5,
   "metadata": {},
   "outputs": [
    {
     "name": "stdout",
     "output_type": "stream",
     "text": [
      "Python Java\n",
      "Python,Java\n",
      "Python vs Java vs JavasScript\n"
     ]
    }
   ],
   "source": [
    "print(\"Python\",\"Java\")\n",
    "print(\"Python\",\"Java\", sep=',')\n",
    "print(\"Python\",\"Java\",\"JavasScript\", sep=' vs ')"
   ]
  },
  {
   "cell_type": "code",
   "execution_count": 7,
   "metadata": {},
   "outputs": [
    {
     "name": "stdout",
     "output_type": "stream",
     "text": [
      "Python,Java ? 무엇이 더 재밌을까요?\n"
     ]
    }
   ],
   "source": [
    "print(\"Python\",\"Java\", sep=',',end=\" ? \")\n",
    "print(\"무엇이 더 재밌을까요?\")"
   ]
  },
  {
   "cell_type": "code",
   "execution_count": 8,
   "metadata": {},
   "outputs": [
    {
     "name": "stdout",
     "output_type": "stream",
     "text": [
      "Python Java\n"
     ]
    },
    {
     "name": "stderr",
     "output_type": "stream",
     "text": [
      "Python Java\n"
     ]
    }
   ],
   "source": [
    "import sys\n",
    "\n",
    "print(\"Python\",\"Java\", file=sys.stdout)  ## 표준 출력\n",
    "print(\"Python\",\"Java\", file=sys.stderr)  ## 표준 error"
   ]
  },
  {
   "cell_type": "markdown",
   "metadata": {},
   "source": [
    "- ljust(n) : 왼쪽 정렬, 총 n자리\n",
    "- rjust(n) : 오른쪽 정렬, 총 n자리\n",
    "- zfill(n) : n만큼의 공간을 확보하고 빈 공간은 0으로 채운다\n",
    "- 모두 문자열일때 사용할 수 있다"
   ]
  },
  {
   "cell_type": "code",
   "execution_count": 11,
   "metadata": {},
   "outputs": [
    {
     "name": "stdout",
     "output_type": "stream",
     "text": [
      "수학      :   0\n",
      "영어      :  50\n",
      "코딩      : 100\n"
     ]
    }
   ],
   "source": [
    "score= {\"수학\":0, \"영어\":50, \"코딩\":100}\n",
    "\n",
    "for subject, score in score.items():\n",
    "    print(subject.ljust(8),str(score).rjust(4),sep=':')"
   ]
  },
  {
   "cell_type": "code",
   "execution_count": 14,
   "metadata": {},
   "outputs": [
    {
     "name": "stdout",
     "output_type": "stream",
     "text": [
      "대기번호 : 001\n",
      "대기번호 : 002\n",
      "대기번호 : 003\n",
      "대기번호 : 004\n",
      "대기번호 : 005\n",
      "대기번호 : 006\n",
      "대기번호 : 007\n",
      "대기번호 : 008\n",
      "대기번호 : 009\n",
      "대기번호 : 010\n",
      "대기번호 : 011\n",
      "대기번호 : 012\n",
      "대기번호 : 013\n",
      "대기번호 : 014\n",
      "대기번호 : 015\n",
      "대기번호 : 016\n",
      "대기번호 : 017\n",
      "대기번호 : 018\n",
      "대기번호 : 019\n",
      "대기번호 : 020\n"
     ]
    }
   ],
   "source": [
    "for number in range(1,21):\n",
    "    print(\"대기번호 : \" + str(number).zfill(3))"
   ]
  },
  {
   "cell_type": "code",
   "execution_count": 15,
   "metadata": {},
   "outputs": [
    {
     "name": "stdout",
     "output_type": "stream",
     "text": [
      "입력하신 값은 나도코딩입니다.\n"
     ]
    }
   ],
   "source": [
    "answer =input(\"아무 값이나 입력하세요 : \")\n",
    "print(\"입력하신 값은 \" + answer + \"입니다.\")"
   ]
  },
  {
   "cell_type": "markdown",
   "metadata": {},
   "source": [
    "---"
   ]
  },
  {
   "cell_type": "markdown",
   "metadata": {},
   "source": [
    "## 2.다양한 출력포멧"
   ]
  },
  {
   "cell_type": "code",
   "execution_count": 16,
   "metadata": {},
   "outputs": [
    {
     "name": "stdout",
     "output_type": "stream",
     "text": [
      "       500\n"
     ]
    }
   ],
   "source": [
    "# 빈 자리는 빈공간으로 두고, 오른쪽 정렬을 하되, 총 10자리 공간을 확보\n",
    "print(\"{0: >10}\".format(500))"
   ]
  },
  {
   "cell_type": "code",
   "execution_count": 17,
   "metadata": {},
   "outputs": [
    {
     "name": "stdout",
     "output_type": "stream",
     "text": [
      "      +500\n",
      "      -500\n"
     ]
    }
   ],
   "source": [
    "# 양수일 때는 +로 표시, 음수일 때는 -로는 표시\n",
    "print(\"{0: >+10}\".format(500))\n",
    "print(\"{0: >+10}\".format(-500))"
   ]
  },
  {
   "cell_type": "code",
   "execution_count": 19,
   "metadata": {},
   "outputs": [
    {
     "name": "stdout",
     "output_type": "stream",
     "text": [
      "+500______\n"
     ]
    }
   ],
   "source": [
    "# 왼쪽 정렬하고, 빈칸으로 _를 채움\n",
    "print(\"{0:_<+10}\".format(500))"
   ]
  },
  {
   "cell_type": "code",
   "execution_count": 21,
   "metadata": {},
   "outputs": [
    {
     "name": "stdout",
     "output_type": "stream",
     "text": [
      "100,000,000,000\n"
     ]
    }
   ],
   "source": [
    "# 3자리마다 ,를 찍어주기\n",
    "print(\"{0:,}\".format(100000000000))"
   ]
  },
  {
   "cell_type": "code",
   "execution_count": 23,
   "metadata": {},
   "outputs": [
    {
     "name": "stdout",
     "output_type": "stream",
     "text": [
      "+100,000,000,000\n",
      "-100,000,000,000\n"
     ]
    }
   ],
   "source": [
    "# 3자리마다 ,를 찍어주기, +-부호도 붙이기\n",
    "print(\"{0:+,}\".format(100000000000))\n",
    "print(\"{0:+,}\".format(-100000000000))"
   ]
  },
  {
   "cell_type": "code",
   "execution_count": 24,
   "metadata": {},
   "outputs": [
    {
     "name": "stdout",
     "output_type": "stream",
     "text": [
      "+10,000,000,000,000^^^^^^^^^^^\n"
     ]
    }
   ],
   "source": [
    "# 3자리마다 ,를 찍어주기, +-부호도 붙이기, 자릿수 확보하기, 빈자리는 ^로 채우기\n",
    "print(\"{0:^<+30,}\".format(10000000000000))"
   ]
  },
  {
   "cell_type": "code",
   "execution_count": 27,
   "metadata": {},
   "outputs": [
    {
     "name": "stdout",
     "output_type": "stream",
     "text": [
      "1.666667\n"
     ]
    }
   ],
   "source": [
    "# 소수점 출력\n",
    "print(\"{0:f}\".format(5/3))"
   ]
  },
  {
   "cell_type": "code",
   "execution_count": 29,
   "metadata": {},
   "outputs": [
    {
     "name": "stdout",
     "output_type": "stream",
     "text": [
      "1.67\n"
     ]
    }
   ],
   "source": [
    "# 소수점 특정 자리수 까지만 출력\n",
    "print(\"{0:.2f}\".format(5/3))"
   ]
  },
  {
   "cell_type": "markdown",
   "metadata": {},
   "source": [
    "---\n",
    "## 3.파일 입출력\n",
    "    - 파일을 열었으면 꼭 닫아주기"
   ]
  },
  {
   "cell_type": "code",
   "execution_count": 31,
   "metadata": {},
   "outputs": [],
   "source": [
    "score_file =open(\"score.txt\", \"w\", encoding='utf8') ## w :쓰기 전용(wirte)\n",
    "print(\"수학 : 0\",file=score_file)\n",
    "print(\"영어 : 50\",file=score_file)\n",
    "score_file.close()"
   ]
  },
  {
   "cell_type": "code",
   "execution_count": 32,
   "metadata": {},
   "outputs": [],
   "source": [
    "score_file =open(\"score.txt\", \"a\", encoding='utf8') ## a: 추가로 쓰기(append)\n",
    "score_file.write(\"과학 : 80\")\n",
    "score_file.write(\"\\n코딩 : 100\")\n",
    "score_file.close()"
   ]
  },
  {
   "cell_type": "markdown",
   "metadata": {},
   "source": [
    "- 모두 불러오기"
   ]
  },
  {
   "cell_type": "code",
   "execution_count": 33,
   "metadata": {},
   "outputs": [
    {
     "name": "stdout",
     "output_type": "stream",
     "text": [
      "수학 : 0\n",
      "영어 : 50\n",
      "과학 : 80\n",
      "코딩 : 100\n"
     ]
    }
   ],
   "source": [
    "score_file =open(\"score.txt\", \"r\", encoding='utf8') ## r:읽기(read)\n",
    "print(score_file.read())\n",
    "score_file.close()"
   ]
  },
  {
   "cell_type": "markdown",
   "metadata": {},
   "source": [
    "- 한줄씩 불러오기 "
   ]
  },
  {
   "cell_type": "code",
   "execution_count": 36,
   "metadata": {},
   "outputs": [
    {
     "name": "stdout",
     "output_type": "stream",
     "text": [
      "수학 : 0\n",
      "영어 : 50\n",
      "과학 : 80\n",
      "코딩 : 100"
     ]
    }
   ],
   "source": [
    "score_file =open(\"score.txt\", \"r\", encoding='utf8') \n",
    "print(score_file.readline(),end='') # 줄별로 읽기, 한줄 일고 커서는 다음 줄로 이동\n",
    "print(score_file.readline(),end='') \n",
    "print(score_file.readline(),end='') \n",
    "print(score_file.readline(),end='') \n",
    "score_file.close()"
   ]
  },
  {
   "cell_type": "markdown",
   "metadata": {},
   "source": [
    "- 파일이 총 몇줄인지 모를 때"
   ]
  },
  {
   "cell_type": "code",
   "execution_count": 37,
   "metadata": {},
   "outputs": [
    {
     "name": "stdout",
     "output_type": "stream",
     "text": [
      "수학 : 0\n",
      "영어 : 50\n",
      "과학 : 80\n",
      "코딩 : 100"
     ]
    }
   ],
   "source": [
    "score_file =open(\"score.txt\", \"r\", encoding='utf8') \n",
    "while True:\n",
    "    line= score_file.readline()\n",
    "    if not line:\n",
    "        break\n",
    "    print(line,end=\"\")\n",
    "score_file.close()"
   ]
  },
  {
   "cell_type": "markdown",
   "metadata": {},
   "source": [
    "- list형태로 받아와서 일기"
   ]
  },
  {
   "cell_type": "code",
   "execution_count": 38,
   "metadata": {},
   "outputs": [
    {
     "name": "stdout",
     "output_type": "stream",
     "text": [
      "수학 : 0\n",
      "영어 : 50\n",
      "과학 : 80\n",
      "코딩 : 100"
     ]
    }
   ],
   "source": [
    "score_file =open(\"score.txt\", \"r\", encoding='utf8') \n",
    "lines= score_file.readlines() # list형태로 저장\n",
    "for line in lines:\n",
    "    print(line,end=\"\")\n",
    "score_file.close()"
   ]
  },
  {
   "cell_type": "markdown",
   "metadata": {},
   "source": [
    "---\n",
    "## 4.Pickle\n",
    "    - 프로그램에서 사용하는 데이터를 파일 형태로 저장\n",
    "    - 피클은 항상 바이너리 타입\n",
    "    - encoding을 해줄 필요 없다\n",
    "    - 파일 : open(\"\"---.pickle,'wb' or 'rb')\n",
    "    - 저장 : pickle.dump(데이터, 저장할 파일)\n",
    "    - 읽기 : pickle.load(읽을 파일)\n"
   ]
  },
  {
   "cell_type": "code",
   "execution_count": 40,
   "metadata": {},
   "outputs": [
    {
     "name": "stdout",
     "output_type": "stream",
     "text": [
      "{'이름': '박명수', '나이': 30, '취미': ['축구', '코딩', '골프']}\n"
     ]
    }
   ],
   "source": [
    "import pickle\n",
    "profile_file = open(\"profile.pickle\", \"wb\")  ## 피클을 사용하기 위해서는 항상 바이너리 타입을 이용\n",
    "profile = {\"이름\":\"박명수\", \"나이\":30, \"취미\":[\"축구\",\"코딩\",\"골프\"]}\n",
    "print(profile)\n",
    "pickle.dump(profile,profile_file) # profile에 있는 정보를 profile_file에 저장\n",
    "profile_file.close()"
   ]
  },
  {
   "cell_type": "code",
   "execution_count": 41,
   "metadata": {},
   "outputs": [
    {
     "name": "stdout",
     "output_type": "stream",
     "text": [
      "{'이름': '박명수', '나이': 30, '취미': ['축구', '코딩', '골프']}\n"
     ]
    }
   ],
   "source": [
    "profile_file = open(\"profile.pickle\", \"rb\")\n",
    "profile=pickle.load(profile_file) # profile_file에 불러오기\n",
    "print(profile)\n",
    "profile_file.close()"
   ]
  },
  {
   "cell_type": "markdown",
   "metadata": {},
   "source": [
    "## 5. with\n",
    "    - with문을 탈출하면서 자동으로 파일 종료\n",
    "    - 탈출할 필요 없다"
   ]
  },
  {
   "cell_type": "code",
   "execution_count": 42,
   "metadata": {},
   "outputs": [
    {
     "name": "stdout",
     "output_type": "stream",
     "text": [
      "{'이름': '박명수', '나이': 30, '취미': ['축구', '코딩', '골프']}\n"
     ]
    }
   ],
   "source": [
    "import pickle\n",
    "\n",
    "with open(\"profile.pickle\",'rb') as profile_file:\n",
    "    print(pickle.load(profile_file))"
   ]
  },
  {
   "cell_type": "code",
   "execution_count": 43,
   "metadata": {},
   "outputs": [],
   "source": [
    "with open(\"study.txt\",\"w\",encoding='utf8') as study_file:\n",
    "    study_file.write(\"파이썬을 열심히 공부중,23/08/25\")"
   ]
  },
  {
   "cell_type": "code",
   "execution_count": 45,
   "metadata": {},
   "outputs": [
    {
     "name": "stdout",
     "output_type": "stream",
     "text": [
      "파이썬을 열심히 공부중,23/08/25\n"
     ]
    }
   ],
   "source": [
    "with open(\"study.txt\", 'r', encoding='utf8') as study_file:\n",
    "    print(study_file.read())"
   ]
  },
  {
   "cell_type": "markdown",
   "metadata": {},
   "source": [
    "---\n",
    "- 퀴즈"
   ]
  },
  {
   "cell_type": "code",
   "execution_count": 47,
   "metadata": {},
   "outputs": [],
   "source": [
    "for i in range(1,51):\n",
    "    with open('{0}주차.txt'.format(i),'w',encoding='utf8') as file:\n",
    "        file.write(\" - {0} 주차 주간보고 - \\n부서 : \\n이름 : \\n업무 요약 :\".format(i))"
   ]
  }
 ],
 "metadata": {
  "kernelspec": {
   "display_name": "Python 3",
   "language": "python",
   "name": "python3"
  },
  "language_info": {
   "codemirror_mode": {
    "name": "ipython",
    "version": 3
   },
   "file_extension": ".py",
   "mimetype": "text/x-python",
   "name": "python",
   "nbconvert_exporter": "python",
   "pygments_lexer": "ipython3",
   "version": "3.10.9"
  },
  "orig_nbformat": 4
 },
 "nbformat": 4,
 "nbformat_minor": 2
}
