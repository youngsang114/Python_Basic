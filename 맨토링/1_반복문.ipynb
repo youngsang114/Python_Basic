{
 "cells": [
  {
   "cell_type": "markdown",
   "metadata": {},
   "source": [
    "# 반복문\n"
   ]
  },
  {
   "cell_type": "markdown",
   "metadata": {},
   "source": [
    "---"
   ]
  },
  {
   "cell_type": "markdown",
   "metadata": {},
   "source": [
    "## 1.for문"
   ]
  },
  {
   "cell_type": "markdown",
   "metadata": {},
   "source": [
    "```python\n",
    "for [변수] in [반복자]:\n",
    "들여쓰기 [수행문]\n",
    "```\n",
    "\n",
    "- 반복자 : 리스트,튜플,문자열\n",
    "- 변수  : 반복자의 원소들\n",
    "- ex)  for (a,b) in [(1,2), (3,4), (5,6)]"
   ]
  },
  {
   "cell_type": "code",
   "execution_count": 17,
   "metadata": {},
   "outputs": [
    {
     "name": "stdout",
     "output_type": "stream",
     "text": [
      "[55, 95, 75, 70, 100, 100]\n"
     ]
    }
   ],
   "source": [
    "scores = [50,90,70,65,95,100]\n",
    "new_scores= []\n",
    "\n",
    "for s in scores:\n",
    "    if s <100:\n",
    "        new= s+5\n",
    "    else:\n",
    "        new = s\n",
    "\n",
    "    new_scores.append(new)\n",
    "\n",
    "print(new_scores)"
   ]
  },
  {
   "cell_type": "markdown",
   "metadata": {},
   "source": [
    "### 문제1\n",
    "- 총 5명의 학생이 시험을 보았는데 시험 점수가 60점 이상이면 합격이고 그렇지 않으면 불합격이다. 합격인지, 불합격인지 결과를 보여 주시오.\n",
    "- 학생 5명의 점수 : [90, 25, 67, 45, 80]\n",
    "- 츌력 예시 : 1번 학생은 합격입니다."
   ]
  },
  {
   "cell_type": "code",
   "execution_count": 3,
   "metadata": {},
   "outputs": [
    {
     "name": "stdout",
     "output_type": "stream",
     "text": [
      "1번 학생은 합격입니다.\n",
      "2번 학생은 불합격입니다.\n",
      "3번 학생은 합격입니다.\n",
      "4번 학생은 불합격입니다.\n",
      "5번 학생은 합격입니다.\n"
     ]
    }
   ],
   "source": [
    "marks = [90, 25, 67, 45, 80]\n",
    "number = 0\n",
    "\n",
    "for mark in marks:   # 90, 25, 67, 45, 80을 순서대로 mark에 대입\n",
    "    number = number +1 \n",
    "    if mark >= 60: \n",
    "        print(\"%d번 학생은 합격입니다.\" % number)\n",
    "    else: \n",
    "        print(\"%d번 학생은 불합격입니다.\" % number)"
   ]
  },
  {
   "cell_type": "markdown",
   "metadata": {},
   "source": [
    "---"
   ]
  },
  {
   "cell_type": "markdown",
   "metadata": {},
   "source": [
    "## 2. while문"
   ]
  },
  {
   "cell_type": "markdown",
   "metadata": {},
   "source": [
    "```python\n",
    "while (조건문):\n",
    "들여쓰기 수행문\n",
    "```\n",
    "- 조건문이 참일때 : 수행문을 반복해서 실행\n",
    "- 조건문이 거짓일때 : while문을 빠져나온다\n",
    "- break : break가 처음으로 나올때 while문 빠져나온다\n",
    "- continue : continue가 나오면 수행문의 처음으로 돌아간다"
   ]
  },
  {
   "cell_type": "markdown",
   "metadata": {},
   "source": [
    "- 무한루프\n",
    "\n",
    "    ```python\n",
    "    while (True):\n",
    "    들여쓰기 print(\"무한루프\")\n",
    "    ```\n",
    "    - 특정조건이 되면 break를 이용해서 탈출하기\n"
   ]
  },
  {
   "cell_type": "markdown",
   "metadata": {},
   "source": [
    "### 문제2\n",
    "\n",
    "- 사용자가 스마트폰 허용 시간을 300분으로 설정하였다.\n",
    "- 한번 사용할때마다 50분씩 사용한다\n",
    "- 지정 시간(300분)에 도달하였을 때 핸드폰 사용을 중단하도록 하세요"
   ]
  },
  {
   "cell_type": "code",
   "execution_count": 13,
   "metadata": {},
   "outputs": [
    {
     "name": "stdout",
     "output_type": "stream",
     "text": [
      "현재 사용량 : 0\n",
      "현재 사용량 : 50\n",
      "현재 사용량 : 100\n",
      "현재 사용량 : 150\n",
      "현재 사용량 : 200\n",
      "현재 사용량 : 250\n",
      "현재 사용량 : 300\n",
      "\n",
      "[경고][사용중단]\n"
     ]
    }
   ],
   "source": [
    "time_sum = 300\n",
    "time =0\n",
    "\n",
    "while time_sum >= 0:\n",
    "    print(\"현재 사용량 :\",time)\n",
    "    if time_sum ==0:\n",
    "        print(\"\")\n",
    "        print('[경고][사용중단]')\n",
    "    time +=50\n",
    "    time_sum -=50\n",
    "\n",
    "    \n"
   ]
  },
  {
   "cell_type": "code",
   "execution_count": 16,
   "metadata": {},
   "outputs": [
    {
     "name": "stdout",
     "output_type": "stream",
     "text": [
      "현재 사용량 : 0\n",
      "현재 사용량 : 50\n",
      "현재 사용량 : 100\n",
      "현재 사용량 : 150\n",
      "현재 사용량 : 200\n",
      "현재 사용량 : 250\n",
      "현재 사용량 : 300\n",
      "\n",
      "[경고][사용중단]\n"
     ]
    }
   ],
   "source": [
    "time = 0\n",
    "\n",
    "while(True):\n",
    "    print(\"현재 사용량 :\",time)\n",
    "    if time >= 300:\n",
    "        print(\"\")\n",
    "        print('[경고][사용중단]')\n",
    "        break\n",
    "    else:\n",
    "        time =time + 50\n",
    "        \n"
   ]
  },
  {
   "cell_type": "code",
   "execution_count": null,
   "metadata": {},
   "outputs": [],
   "source": [
    "s"
   ]
  }
 ],
 "metadata": {
  "kernelspec": {
   "display_name": "Python 3",
   "language": "python",
   "name": "python3"
  },
  "language_info": {
   "codemirror_mode": {
    "name": "ipython",
    "version": 3
   },
   "file_extension": ".py",
   "mimetype": "text/x-python",
   "name": "python",
   "nbconvert_exporter": "python",
   "pygments_lexer": "ipython3",
   "version": "3.10.9"
  },
  "orig_nbformat": 4
 },
 "nbformat": 4,
 "nbformat_minor": 2
}
